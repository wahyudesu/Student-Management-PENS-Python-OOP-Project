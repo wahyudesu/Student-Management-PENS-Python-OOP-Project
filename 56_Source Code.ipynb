{
 "cells": [
  {
   "cell_type": "markdown",
   "metadata": {},
   "source": []
  },
  {
   "cell_type": "markdown",
   "metadata": {},
   "source": [
    "<h1><center>Project Akhir Python OOP</center></h1>\n",
    "<h2><center>Pemrograman 2</center></h2>\n",
    "<h3><center>Dosen Pengampu Tri Hadiah Muliawati</center></h3>"
   ]
  },
  {
   "cell_type": "markdown",
   "metadata": {},
   "source": []
  },
  {
   "cell_type": "markdown",
   "metadata": {},
   "source": []
  },
  {
   "cell_type": "markdown",
   "metadata": {},
   "source": []
  },
  {
   "cell_type": "markdown",
   "metadata": {},
   "source": [
    "<img src=\"logo pens.png\" \n",
    "        alt=\"Picture\" \n",
    "        width=\"380\" \n",
    "        height=\"380\" \n",
    "        style=\"display: block; margin: 0 auto\" />"
   ]
  },
  {
   "cell_type": "markdown",
   "metadata": {},
   "source": []
  },
  {
   "cell_type": "markdown",
   "metadata": {},
   "source": []
  },
  {
   "cell_type": "markdown",
   "metadata": {},
   "source": []
  },
  {
   "cell_type": "markdown",
   "metadata": {},
   "source": []
  },
  {
   "cell_type": "markdown",
   "metadata": {},
   "source": []
  },
  {
   "cell_type": "markdown",
   "metadata": {},
   "source": [
    "<h3><center>Wahyu Ikbal Maulana</center></h3>\n",
    "\n",
    "<h3><center>3323600056</center></h3>\n",
    "\n",
    "<h3><center>D3 SDT B</center></h3>\n",
    "\n",
    "<h1><center>Politeknik Elektronika Negeri Surabaya</center></h1>"
   ]
  },
  {
   "cell_type": "markdown",
   "metadata": {},
   "source": []
  },
  {
   "cell_type": "markdown",
   "metadata": {},
   "source": []
  },
  {
   "cell_type": "markdown",
   "metadata": {},
   "source": [
    "##### Link Youtube: https://youtu.be/IMvZqmc6Q08\n",
    "##### Link Github: https://github.com/wahyudesu/Student-Management-PENS-Python-OOP-Project"
   ]
  },
  {
   "cell_type": "markdown",
   "metadata": {},
   "source": [
    "## <b><span style='color:#FA5E3C'>|</span> Inisiasi Database</b> "
   ]
  },
  {
   "cell_type": "code",
   "execution_count": null,
   "metadata": {},
   "outputs": [],
   "source": [
    "import sqlite3\n",
    "import pandas as pd\n",
    "\n",
    "# Dataframe\n",
    "data = {\n",
    "    'Nama': ['Ani', 'Budi', 'Cici', 'Dedi', 'Euis', 'Fafa', 'Gigi', 'Hadi', 'Ina', 'Joko', 'Kiki', 'Lala', 'Mimi', 'Nana', 'Opi', 'Pipi', 'Qiqi', 'Riri', 'Sisi', 'Titi', 'Uci', 'Vivi', 'Wati', 'Xena', 'Yuni', 'Zara'],\n",
    "    'NIM': ['12345', '67890', '54321', '13579', '24680', '35791', '46802', '57913', '68024', '79135', '80246', '91357', '02468', '13579', '24680', '35791', '46802', '57913', '68024', '79135', '80246', '91357', '02468', '13579', '24680', '35791'],\n",
    "    'Gender': ['Perempuan', 'Laki-laki', 'Perempuan', 'Laki-laki', 'Perempuan', 'Laki-laki', 'Perempuan', 'Laki-laki', 'Perempuan', 'Laki-laki', 'Perempuan', 'Laki-laki', 'Perempuan', 'Laki-laki', 'Perempuan', 'Laki-laki', 'Perempuan', 'Laki-laki', 'Perempuan', 'Laki-laki', 'Perempuan', 'Laki-laki', 'Perempuan', 'Laki-laki', 'Perempuan', 'Laki-laki'],\n",
    "    'Kontak': ['08123456789', '08123456789', '08123456789', '08123456789', '08123456789', '08123456789', '08123456789', '08123456789', '08123456789', '08123456789', '08123456789', '08123456789', '08123456789', '08123456789', '08123456789', '08123456789', '08123456789', '08123456789', '08123456789', '08123456789', '08123456789', '08123456789', '08123456789', '08123456789', '08123456789', '08123456789'],\n",
    "    'Jurusan': ['IT', 'ELEKTRO', 'DS', 'TELKOM', 'GAME', 'IT', 'ELEKTRO', 'DS', 'TELKOM', 'GAME', 'IT', 'ELEKTRO', 'DS', 'TELKOM', 'GAME', 'IT', 'ELEKTRO', 'DS', 'TELKOM', 'GAME', 'IT', 'ELEKTRO', 'DS', 'TELKOM', 'GAME', 'IT'],\n",
    "    'Semester': [8, 6, 4, 8, 4, 8, 6, 4, 8, 4, 8, 6, 4, 8, 6, 4, 8, 6, 4, 8, 6, 4, 8, 6, 4, 8],\n",
    "    'UTS': [75, 80, 85, 88, 85, 80, 85, 80, 85, 90, 75, 80, 85, 80, 85, 80, 85, 78, 85, 90, 75, 80, 85, 80, 85, 80],\n",
    "    'UAS': [95, 90, 85, 90, 95, 90, 100, 90, 95, 90, 95, 90, 85, 90, 95, 90, 100, 90, 95, 90, 95, 90, 85, 90, 95, 90]\n",
    "}\n",
    "\n",
    "# Membuat dataframe\n",
    "df = pd.DataFrame(data)\n",
    "\n",
    "# Menghubungkan ke database SQLite\n",
    "conn = sqlite3.connect('mahasiswa.db')\n",
    "\n",
    "# Menyimpan dataframe ke dalam database SQLite\n",
    "df.to_sql('mahasiswa', conn, if_exists='replace', index=False)\n",
    "\n",
    "# Menutup koneksi\n",
    "conn.close()"
   ]
  },
  {
   "cell_type": "markdown",
   "metadata": {},
   "source": [
    "<div style=\"border-radius: 10px; border: #0ea5e9 solid; padding: 15px; background-color: #ffffff00; font-size: 100%; text-align: left;\">\n",
    "    <b>🖊️ Analisis :</b> Kali ini untuk teknik time seriesnya menambahkan nilai NA untuk memperluas data deret waktu dengan nilai prediksi Simple moving average tadi.\n",
    "</div>"
   ]
  },
  {
   "cell_type": "code",
   "execution_count": null,
   "metadata": {},
   "outputs": [],
   "source": [
    "import streamlit as st\n",
    "import matplotlib.pyplot as plt\n",
    "import plotly.graph_objs as go\n",
    "import seaborn as sns\n",
    "\n",
    "# Menghubungkan ke database yang sudah ada\n",
    "conn = sqlite3.connect('mahasiswa.db')\n",
    "c = conn.cursor()\n",
    "\n",
    "c.execute('''CREATE TABLE IF NOT EXISTS Mahasiswa\n",
    "             (Nama TEXT, NIM TEXT, Gender TEXT, Kontak TEXT, Jurusan TEXT, Semester INTEGER, UTS INTEGER, UAS INTEGER)''')"
   ]
  },
  {
   "cell_type": "markdown",
   "metadata": {},
   "source": [
    "<div style=\"border-radius: 10px; border: #0ea5e9 solid; padding: 15px; background-color: #ffffff00; font-size: 100%; text-align: left;\">\n",
    "    <b>🖊️ Analisis :</b> Kali ini untuk teknik time seriesnya menambahkan nilai NA untuk memperluas data deret waktu dengan nilai prediksi Simple moving average tadi.\n",
    "</div>"
   ]
  },
  {
   "cell_type": "markdown",
   "metadata": {},
   "source": [
    "## <b><span style='color:#FA5E3C'>|</span> OOP Python Class</b> "
   ]
  },
  {
   "cell_type": "code",
   "execution_count": null,
   "metadata": {},
   "outputs": [],
   "source": [
    "# Python OOP\n",
    "class Mahasiswa:\n",
    "    # Encapsulation\n",
    "    def __init__(self, name, nim, gender, kontak, uts, uas):\n",
    "        self._name = name\n",
    "        self._nim = nim\n",
    "        self._gender = gender\n",
    "        self._kontak = kontak\n",
    "        self._uts = uts\n",
    "        self._uas = uas\n",
    "\n",
    "# Polymorphism\n",
    "class D3(Mahasiswa):\n",
    "    def __init__(self, name, nim, gender, kontak, uts, uas):\n",
    "        # Inheritance\n",
    "        super().__init__(name, nim, gender, kontak, uts, uas)\n",
    "        self._lama_kuliah = 6\n",
    "        self._program = ['IT', 'ELEKTRO']\n",
    "\n",
    "    # Getter methods specific to D3\n",
    "    def get_lama_kuliah(self):\n",
    "        return self._lama_kuliah\n",
    "\n",
    "    def get_program(self):\n",
    "        return self._program\n",
    "\n",
    "class D4(Mahasiswa):\n",
    "    def __init__(self, name, nim, gender, kontak, uts, uas):\n",
    "        super().__init__(name, nim, gender, kontak, uts, uas)\n",
    "        self._lama_kuliah = 8\n",
    "        self._program = ['IT', 'ELEKTRO','DS', 'TELKOM', 'GAME']\n",
    "\n",
    "    # Getter methods specific to D4\n",
    "    def get_lama_kuliah(self):\n",
    "        return self._lama_kuliah\n",
    "\n",
    "    def get_program(self):\n",
    "        return self._program\n",
    "\n",
    "class S2(Mahasiswa):\n",
    "    def __init__(self, name, nim, gender, kontak, uts, uas):\n",
    "        super().__init__(name, nim, gender, kontak, uts, uas)\n",
    "        self._lama_kuliah = 4\n",
    "        self._program = ['IT','ELEKTRO']\n",
    "\n",
    "    # Getter methods specific to S2\n",
    "    def get_lama_kuliah(self):\n",
    "        return self._lama_kuliah\n",
    "\n",
    "    def get_program(self):\n",
    "        return self._program"
   ]
  },
  {
   "cell_type": "markdown",
   "metadata": {},
   "source": [
    "<div style=\"border-radius: 10px; border: #0ea5e9 solid; padding: 15px; background-color: #ffffff00; font-size: 100%; text-align: left;\">\n",
    "    <b>🖊️ Analisis :</b> Kali ini untuk teknik time seriesnya menambahkan nilai NA untuk memperluas data deret waktu dengan nilai prediksi Simple moving average tadi.\n",
    "</div>"
   ]
  },
  {
   "cell_type": "markdown",
   "metadata": {},
   "source": [
    "## <b><span style='color:#FA5E3C'>|</span> Tambahan Fitur</b> "
   ]
  },
  {
   "cell_type": "code",
   "execution_count": null,
   "metadata": {},
   "outputs": [],
   "source": [
    "# Fitur login\n",
    "def creds_entered():\n",
    "    list_user = [\"admin\"]\n",
    "    list_passwd = [\"admin\"]\n",
    "    if st.session_state[\"user\"].strip() in list_user and st.session_state[\"passwd\"].strip() in list_passwd:\n",
    "        st.session_state[\"authenticated\"] = True\n",
    "    else:\n",
    "        st.session_state[\"authenticated\"] = False\n",
    "        if not st.session_state[\"passwd\"]:\n",
    "            st.warning(\"Please enter password.\")\n",
    "        elif not st.session_state[\"user\"]:\n",
    "            st.warning(\"Please enter username.\")\n",
    "        else:\n",
    "            st.error(\"Username/Password Salah :face_with_raised_eyebrow\")\n",
    "\n",
    "# user autentifikasi\n",
    "def authenticate_user():\n",
    "    if \"authenticated\" not in st.session_state:\n",
    "        st.text_input(label='Username: ', value=\"\", key=\"user\", on_change=creds_entered)\n",
    "        st.text_input(label='Password: ', value=\"\", key=\"passwd\", type=\"password\", on_change=creds_entered)\n",
    "        return False\n",
    "    else:\n",
    "        if st.session_state[\"authenticated\"]:\n",
    "            return True\n",
    "        else:\n",
    "            st.text_input(label='Username: ', value=\"\", key=\"user\", on_change=creds_entered)\n",
    "            st.text_input(label='Password: ', value=\"\", key=\"passwd\", type=\"password\", on_change=creds_entered)\n",
    "            return False"
   ]
  },
  {
   "cell_type": "markdown",
   "metadata": {},
   "source": [
    "<div style=\"border-radius: 10px; border: #0ea5e9 solid; padding: 15px; background-color: #ffffff00; font-size: 100%; text-align: left;\">\n",
    "    <b>🖊️ Analisis :</b> Kali ini untuk teknik time seriesnya menambahkan nilai NA untuk memperluas data deret waktu dengan nilai prediksi Simple moving average tadi.\n",
    "</div>"
   ]
  },
  {
   "cell_type": "code",
   "execution_count": null,
   "metadata": {},
   "outputs": [],
   "source": [
    "\n",
    "# Front End\n",
    "st.title('📚WEBSITE MANAJEMEN HIMIT✅')\n",
    "\n",
    "if authenticate_user():\n",
    "    # Input data\n",
    "    pilihan_mahasiswa = st.radio('Pilih Mahasiswa', ['D3', 'D4', 'S2'])\n",
    "    name = st.text_input('Nama Mahasiswa')\n",
    "    nim = st.text_input('NIM Mahasiswa')\n",
    "    gender = st.selectbox('Gender Mahasiswa', ['Laki-laki', 'Perempuan'])\n",
    "    kontak = st.text_input('Kontak Mahasiswa')\n",
    "    uts = st.number_input('Nilai UTS', min_value=0, max_value=100)\n",
    "    uas = st.number_input('Nilai UAS', min_value=0, max_value=100)\n",
    "\n",
    "    # Buat objek mahasiswa\n",
    "    if pilihan_mahasiswa == 'D3':\n",
    "        student = D3(name, nim, gender, kontak, uts, uas)\n",
    "        jurusan = st.selectbox('Jurusan', student.get_program())\n",
    "        semester = student.get_lama_kuliah()\n",
    "    elif pilihan_mahasiswa == 'D4':\n",
    "        student = D4(name, nim, gender, kontak, uts, uas)\n",
    "        jurusan = st.selectbox('Jurusan', student.get_program())\n",
    "        semester = student.get_lama_kuliah()\n",
    "    elif pilihan_mahasiswa == 'S2':\n",
    "        student = D4(name, nim, gender, kontak, uts, uas)\n",
    "        jurusan = st.selectbox('Jurusan', student.get_program())\n",
    "        semester = student.get_lama_kuliah()\n",
    "\n",
    "    list_mahasiswa = st.session_state.get('list_mahasiswa', [])\n",
    "    \n",
    "    # Button\n",
    "    if st.button('Simpan Mahasiswa'):\n",
    "        # Insert data into database\n",
    "        c.execute(\"INSERT INTO Mahasiswa (Nama, NIM, Gender, Kontak, Jurusan, Semester, UTS, UAS) VALUES (?, ?, ?, ?, ?, ?, ?, ?)\",\n",
    "                  (name, nim, gender, kontak, jurusan, semester, uts, uas))\n",
    "        conn.commit()\n",
    "\n",
    "    # Retrieve data from database\n",
    "    c.execute(\"SELECT * FROM Mahasiswa\")\n",
    "    rows = c.fetchall()\n",
    "\n",
    "    # Show tabel\n",
    "    df = pd.DataFrame(rows, columns=['Nama', 'NIM', 'Gender', 'Kontak', 'Jurusan', 'Total Semester', 'Nilai UTS', 'Nilai UAS'])\n",
    "    st.table(df)\n",
    "    \n",
    "    # Show plot visualization\n",
    "    if st.button('Plot Nilai UTS UAS'):\n",
    "        # Plot 1: Rata-rata Nilai UTS dan UAS Tiap Total Semester\n",
    "        rata_rata_nilai = df.groupby('Total Semester')[['Nilai UTS', 'Nilai UAS']].mean().reset_index()\n",
    "        fig1 = go.Figure()\n",
    "\n",
    "        fig1.add_trace(go.Bar(\n",
    "            x=rata_rata_nilai['Total Semester'].replace({4: 'S2', 6: 'D3', 8: 'D4'}),\n",
    "            y=rata_rata_nilai['Nilai UTS'],\n",
    "            name='Rata-rata UTS',\n",
    "            marker_color='blue'\n",
    "        ))\n",
    "\n",
    "        fig1.add_trace(go.Bar(\n",
    "            x=rata_rata_nilai['Total Semester'].replace({4: 'S2', 6: 'D3', 8: 'D4'}),\n",
    "            y=rata_rata_nilai['Nilai UAS'],\n",
    "            name='Rata-rata UAS',\n",
    "            marker_color='red'\n",
    "        ))\n",
    "\n",
    "        fig1.update_layout(\n",
    "            title='Rata-rata Nilai UTS dan UAS Tiap Total Semester',\n",
    "            xaxis_title='Jenjang Pendidikan',\n",
    "            yaxis_title='Rata-rata Nilai',\n",
    "            barmode='group'\n",
    "        )\n",
    "        st.plotly_chart(fig1)\n",
    "        \n",
    "        # Plot 2: Jumlah Mahasiswa per Jurusan\n",
    "        plt.figure(figsize=(10, 6))\n",
    "        sns.countplot(x='Jurusan', data=df, color='red')\n",
    "        plt.title('Jumlah Mahasiswa per Jurusan')\n",
    "        plt.xlabel('Jurusan')\n",
    "        plt.ylabel('Jumlah Mahasiswa')\n",
    "        plt.gca().patch.set_alpha(0)  # Set background to transparent\n",
    "        st.pyplot(plt.gcf())\n",
    "\n",
    "        # Plot 3: Distribusi Penyebaran Nilai UTS dan UAS\n",
    "        trace_uts = go.Histogram(x=df['Nilai UTS'], name='UTS', opacity=0.75)\n",
    "        trace_uas = go.Histogram(x=df['Nilai UAS'], name='UAS', opacity=0.75)\n",
    "\n",
    "        layout = go.Layout(\n",
    "            title='Distribusi Penyebaran Nilai UTS dan UAS',\n",
    "            xaxis=dict(title='Nilai', showgrid=False),\n",
    "            yaxis=dict(title='Jumlah Mahasiswa', showgrid=False),\n",
    "            bargap=0.2,\n",
    "            bargroupgap=0.1\n",
    "        )\n",
    "\n",
    "        fig2 = go.Figure(data=[trace_uts, trace_uas], layout=layout)\n",
    "        st.plotly_chart(fig2)\n",
    "conn.close()"
   ]
  },
  {
   "cell_type": "markdown",
   "metadata": {},
   "source": [
    "<div style=\"border-radius: 10px; border: #0ea5e9 solid; padding: 15px; background-color: #ffffff00; font-size: 100%; text-align: left;\">\n",
    "    <b>🖊️ Analisis :</b> Kali ini untuk teknik time seriesnya menambahkan nilai NA untuk memperluas data deret waktu dengan nilai prediksi Simple moving average tadi.\n",
    "</div>"
   ]
  },
  {
   "cell_type": "markdown",
   "metadata": {},
   "source": [
    "# Terima kasih"
   ]
  }
 ],
 "metadata": {
  "kernelspec": {
   "display_name": "Python 3",
   "language": "python",
   "name": "python3"
  },
  "language_info": {
   "codemirror_mode": {
    "name": "ipython",
    "version": 3
   },
   "file_extension": ".py",
   "mimetype": "text/x-python",
   "name": "python",
   "nbconvert_exporter": "python",
   "pygments_lexer": "ipython3",
   "version": "3.10.7"
  }
 },
 "nbformat": 4,
 "nbformat_minor": 2
}
